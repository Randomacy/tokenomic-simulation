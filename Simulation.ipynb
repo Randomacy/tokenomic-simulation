{
 "cells": [
  {
   "cell_type": "code",
   "execution_count": 1,
   "id": "f3e1915c-53a1-472a-9f4a-a472647d2144",
   "metadata": {},
   "outputs": [],
   "source": [
    "from mesa import Agent, Model\n",
    "from mesa.time import RandomActivation\n",
    "from mesa.space import MultiGrid\n",
    "from mesa.datacollection import DataCollector\n",
    "import random"
   ]
  },
  {
   "cell_type": "code",
   "execution_count": 8,
   "id": "b5722511-abbe-4eee-8a22-f0a87bc384f7",
   "metadata": {},
   "outputs": [],
   "source": [
    "class ShipCharter(Agent):\n",
    "    \"\"\"An agent representing a ship charter.\"\"\"\n",
    "    \n",
    "    def __init__(self, unique_id, model):\n",
    "        super().__init__(unique_id, model)\n",
    "        self.fiat_balance = 10000  # Starting fiat balance\n",
    "\n",
    "    def step(self):\n",
    "        # Logic for sending money to agents\n",
    "        if self.fiat_balance > 0:\n",
    "            agent = self.random.choice(self.model.ship_agents)\n",
    "            amount = random.randint(1000, 5000)  # Random amount to send\n",
    "            self.fiat_balance -= amount\n",
    "            agent.receive_fiat(amount)"
   ]
  },
  {
   "cell_type": "code",
   "execution_count": 9,
   "id": "f1e0a989-7f2d-421b-a2f4-53c8f1b2ffd6",
   "metadata": {},
   "outputs": [],
   "source": [
    "class ShipAgent(Agent):\n",
    "    \"\"\"An agent representing a ship agent.\"\"\"\n",
    "    \n",
    "    def __init__(self, unique_id, model):\n",
    "        super().__init__(unique_id, model)\n",
    "        self.fiat_balance = 0\n",
    "        self.token_balance = 0\n",
    "\n",
    "    def receive_fiat(self, amount):\n",
    "        self.fiat_balance += amount\n",
    "        # Logic for exchanging fiat for tokens\n",
    "        self.exchange_fiat_for_tokens(amount)\n",
    "\n",
    "    def exchange_fiat_for_tokens(self, amount):\n",
    "        tokens_received = amount  # Assuming 1:1 exchange for simplicity\n",
    "        self.token_balance += tokens_received"
   ]
  },
  {
   "cell_type": "code",
   "execution_count": 10,
   "id": "33fec87f-d6de-4ade-a72f-27ff3cf61881",
   "metadata": {},
   "outputs": [],
   "source": [
    "class ShipSupplier(Agent):\n",
    "    \"\"\"An agent representing a ship supplier.\"\"\"\n",
    "    \n",
    "    def __init__(self, unique_id, model):\n",
    "        super().__init__(unique_id, model)\n",
    "        self.token_balance = 0\n",
    "        self.fiat_balance = 0\n",
    "\n",
    "    def receive_payment(self, amount):\n",
    "        self.token_balance += amount\n",
    "\n",
    "    def redeem_tokens(self):\n",
    "        # Logic for redeeming tokens for fiat\n",
    "        fee = self.model.transaction_fee  # Get the transaction fee from the model\n",
    "        if self.token_balance > 0:\n",
    "            tokens_to_redeem = self.token_balance\n",
    "            redeem_amount = tokens_to_redeem - fee  # Deduct fee from redemption\n",
    "            if redeem_amount > 0:\n",
    "                self.fiat_balance += redeem_amount\n",
    "                self.token_balance = 0  # All tokens redeemed\n",
    "                self.model.total_fees_collected += fee  # Track the collected fees\n",
    "            else:\n",
    "                print(f\"Insufficient tokens after fee for agent {self.unique_id}\")"
   ]
  },
  {
   "cell_type": "code",
   "execution_count": 17,
   "id": "f7ef95ff-8a4e-441d-894a-edc2c5d34e2a",
   "metadata": {},
   "outputs": [],
   "source": [
    "class StablecoinModel(Model):\n",
    "    \"\"\"A model with some number of agents.\"\"\"\n",
    "    \n",
    "    def __init__(self, N, transaction_fee):\n",
    "        self.num_agents = N\n",
    "        self.schedule = RandomActivation(self)\n",
    "        self.transaction_fee = transaction_fee  # Set the transaction fee\n",
    "        self.total_fees_collected = 0  # Initialize total fees collected\n",
    "\n",
    "        # Create lists to hold different agent types\n",
    "        self.ship_agents = []  # List to store ShipAgent instances\n",
    "        \n",
    "        # Create agents\n",
    "        for i in range(N // 3):\n",
    "            a = ShipCharter(i, self)\n",
    "            self.schedule.add(a)\n",
    "        \n",
    "        for i in range(N // 3, 2 * N // 3):\n",
    "            a = ShipAgent(i, self)\n",
    "            self.ship_agents.append(a)  # Append to ship_agents list\n",
    "            self.schedule.add(a)\n",
    "\n",
    "        for i in range(2 * N // 3, N):\n",
    "            a = ShipSupplier(i, self)\n",
    "            self.schedule.add(a)\n",
    "\n",
    "    def step(self):\n",
    "        self.schedule.step()"
   ]
  },
  {
   "cell_type": "code",
   "execution_count": 18,
   "id": "8a968946-b4e4-445c-b0c6-b1161cde0094",
   "metadata": {},
   "outputs": [],
   "source": [
    "# Example of running the model with a transaction fee\n",
    "transaction_fee = 100  # Set a fixed transaction fee for offramps\n",
    "model = StablecoinModel(30, transaction_fee)"
   ]
  },
  {
   "cell_type": "code",
   "execution_count": 19,
   "id": "115b04f3-c436-4b38-94a2-ee35bce5648a",
   "metadata": {},
   "outputs": [
    {
     "name": "stdout",
     "output_type": "stream",
     "text": [
      "Total transaction fees collected: 0\n"
     ]
    }
   ],
   "source": [
    "# Simulate a few steps to see transactions and fees collected\n",
    "for i in range(100):  # Run for 100 steps\n",
    "    model.step()\n",
    "\n",
    "# Output total fees collected after the simulation\n",
    "print(f\"Total transaction fees collected: {model.total_fees_collected}\")"
   ]
  },
  {
   "cell_type": "code",
   "execution_count": 31,
   "id": "81362853-ea84-475a-a059-48b4ed3e5fcf",
   "metadata": {},
   "outputs": [
    {
     "data": {
      "text/plain": [
       "100"
      ]
     },
     "execution_count": 31,
     "metadata": {},
     "output_type": "execute_result"
    }
   ],
   "source": [
    "model.schedule.time"
   ]
  },
  {
   "cell_type": "code",
   "execution_count": null,
   "id": "6b8066a8-8f81-4011-83e0-6862e8e96d69",
   "metadata": {},
   "outputs": [],
   "source": []
  }
 ],
 "metadata": {
  "kernelspec": {
   "display_name": "Python 3 (ipykernel)",
   "language": "python",
   "name": "python3"
  },
  "language_info": {
   "codemirror_mode": {
    "name": "ipython",
    "version": 3
   },
   "file_extension": ".py",
   "mimetype": "text/x-python",
   "name": "python",
   "nbconvert_exporter": "python",
   "pygments_lexer": "ipython3",
   "version": "3.11.5"
  }
 },
 "nbformat": 4,
 "nbformat_minor": 5
}
